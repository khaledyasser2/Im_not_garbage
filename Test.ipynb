{
 "cells": [
  {
   "cell_type": "code",
   "execution_count": 1,
   "metadata": {},
   "outputs": [],
   "source": [
    "import pandas as pd\n",
    "import tensorflow as tf\n",
    "import numpy as np\n",
    "from tensorflow import keras\n",
    "import matplotlib.pyplot as plt\n",
    "import os\n",
    "import re\n",
    "#from PIL import Image\n",
    "from keras.preprocessing import image"
   ]
  },
  {
   "cell_type": "code",
   "execution_count": 2,
   "metadata": {},
   "outputs": [],
   "source": [
    "IMAGE_WIDTH = 32\n",
    "IMAGE_HEIGHT = 32\n",
    "IMAGE_SIZE=(IMAGE_WIDTH, IMAGE_HEIGHT)\n",
    "IMAGE_CHANNELS = 3\n",
    "base_path = \"./Data/garbage_classification/\"\n",
    "categories = ['battery', 'biological', 'brown-glass', 'cardboard', 'clothes', 'green-glass', \n",
    "            'metal', 'paper', 'plastic', 'shoes', 'trash', 'white-glass']"
   ]
  },
  {
   "cell_type": "code",
   "execution_count": 3,
   "metadata": {},
   "outputs": [
    {
     "name": "stdout",
     "output_type": "stream",
     "text": [
      "Found 15515 files belonging to 12 classes.\n",
      "Using 12412 files for training.\n",
      "Found 15515 files belonging to 12 classes.\n",
      "Using 3103 files for validation.\n"
     ]
    }
   ],
   "source": [
    "train = tf.keras.utils.image_dataset_from_directory(\n",
    "    base_path,\n",
    "    class_names=categories,\n",
    "    image_size=(IMAGE_WIDTH, IMAGE_HEIGHT),\n",
    "    validation_split=0.2,\n",
    "    subset=\"training\",\n",
    "    seed=123,\n",
    "    batch_size=50\n",
    ")\n",
    "validate=tf.keras.utils.image_dataset_from_directory(\n",
    "    base_path,\n",
    "    class_names=categories,\n",
    "    image_size=(IMAGE_WIDTH, IMAGE_HEIGHT),\n",
    "    validation_split=0.2,\n",
    "    subset=\"validation\",\n",
    "    seed=123,\n",
    "    batch_size=50\n",
    ")"
   ]
  },
  {
   "cell_type": "code",
   "execution_count": 4,
   "metadata": {},
   "outputs": [],
   "source": [
    "interpreter = tf.lite.Interpreter(model_path=\"./Model_Lite/maybe224.tflite\")\n",
    "interpreter.allocate_tensors()"
   ]
  }
 ],
 "metadata": {
  "kernelspec": {
   "display_name": ".venv",
   "language": "python",
   "name": "python3"
  },
  "language_info": {
   "codemirror_mode": {
    "name": "ipython",
    "version": 3
   },
   "file_extension": ".py",
   "mimetype": "text/x-python",
   "name": "python",
   "nbconvert_exporter": "python",
   "pygments_lexer": "ipython3",
   "version": "3.9.12"
  },
  "orig_nbformat": 4,
  "vscode": {
   "interpreter": {
    "hash": "e462429c53496bdc27e9c8cdc207a5bb3774b97025d0f96937a2f9f037140975"
   }
  }
 },
 "nbformat": 4,
 "nbformat_minor": 2
}
