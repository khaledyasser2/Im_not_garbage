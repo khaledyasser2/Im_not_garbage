{
 "cells": [
  {
   "cell_type": "code",
   "execution_count": 6,
   "metadata": {},
   "outputs": [],
   "source": [
    "import pandas as pd\n",
    "import tensorflow as tf\n",
    "import numpy as np\n",
    "from tensorflow import keras\n",
    "import matplotlib.pyplot as plt\n",
    "import os\n",
    "import re\n",
    "#from PIL import Image\n",
    "from keras.preprocessing import image"
   ]
  },
  {
   "cell_type": "code",
   "execution_count": 7,
   "metadata": {},
   "outputs": [],
   "source": [
    "IMAGE_WIDTH = 32\n",
    "IMAGE_HEIGHT = 32\n",
    "IMAGE_SIZE=(IMAGE_WIDTH, IMAGE_HEIGHT)\n",
    "IMAGE_CHANNELS = 3\n",
    "base_path = \"./Data/garbage_classification/\"\n",
    "categories = ['battery', 'biological', 'brown-glass', 'cardboard', 'clothes', 'green-glass', \n",
    "            'metal', 'paper', 'plastic', 'shoes', 'trash', 'white-glass']"
   ]
  },
  {
   "cell_type": "code",
   "execution_count": 8,
   "metadata": {},
   "outputs": [
    {
     "name": "stdout",
     "output_type": "stream",
     "text": [
      "Found 15515 files belonging to 12 classes.\n",
      "Using 12412 files for training.\n",
      "Found 15515 files belonging to 12 classes.\n",
      "Using 3103 files for validation.\n"
     ]
    }
   ],
   "source": [
    "train = tf.keras.utils.image_dataset_from_directory(\n",
    "    base_path,\n",
    "    class_names=categories,\n",
    "    image_size=(IMAGE_WIDTH, IMAGE_HEIGHT),\n",
    "    validation_split=0.2,\n",
    "    subset=\"training\",\n",
    "    seed=123,\n",
    "    batch_size=50\n",
    ")\n",
    "validate=tf.keras.utils.image_dataset_from_directory(\n",
    "    base_path,\n",
    "    class_names=categories,\n",
    "    image_size=(IMAGE_WIDTH, IMAGE_HEIGHT),\n",
    "    validation_split=0.2,\n",
    "    subset=\"validation\",\n",
    "    seed=123,\n",
    "    batch_size=50\n",
    ")"
   ]
  },
  {
   "cell_type": "code",
   "execution_count": 10,
   "metadata": {},
   "outputs": [
    {
     "ename": "NameError",
     "evalue": "Exception encountered when calling layer \"lambda_6\" (type Lambda).\n\nname 'mobilenetv2' is not defined\n\nCall arguments received by layer \"lambda_6\" (type Lambda):\n  • inputs=tf.Tensor(shape=(None, 128, 128, 3), dtype=float32)\n  • mask=None\n  • training=None",
     "output_type": "error",
     "traceback": [
      "\u001b[0;31m---------------------------------------------------------------------------\u001b[0m",
      "\u001b[0;31mNameError\u001b[0m                                 Traceback (most recent call last)",
      "Cell \u001b[0;32mIn[10], line 1\u001b[0m\n\u001b[0;32m----> 1\u001b[0m model \u001b[39m=\u001b[39m keras\u001b[39m.\u001b[39;49mmodels\u001b[39m.\u001b[39;49mload_model(\u001b[39m\"\u001b[39;49m\u001b[39m./Models/Premade-128/\u001b[39;49m\u001b[39m\"\u001b[39;49m)\n",
      "File \u001b[0;32m~/Documents/GitHub/Im_not_garbage/.venv/lib/python3.9/site-packages/keras/utils/traceback_utils.py:70\u001b[0m, in \u001b[0;36mfilter_traceback.<locals>.error_handler\u001b[0;34m(*args, **kwargs)\u001b[0m\n\u001b[1;32m     67\u001b[0m     filtered_tb \u001b[39m=\u001b[39m _process_traceback_frames(e\u001b[39m.\u001b[39m__traceback__)\n\u001b[1;32m     68\u001b[0m     \u001b[39m# To get the full stack trace, call:\u001b[39;00m\n\u001b[1;32m     69\u001b[0m     \u001b[39m# `tf.debugging.disable_traceback_filtering()`\u001b[39;00m\n\u001b[0;32m---> 70\u001b[0m     \u001b[39mraise\u001b[39;00m e\u001b[39m.\u001b[39mwith_traceback(filtered_tb) \u001b[39mfrom\u001b[39;00m \u001b[39mNone\u001b[39m\n\u001b[1;32m     71\u001b[0m \u001b[39mfinally\u001b[39;00m:\n\u001b[1;32m     72\u001b[0m     \u001b[39mdel\u001b[39;00m filtered_tb\n",
      "File \u001b[0;32m/var/folders/8h/r_p0xb3j6m57h6qffsf0kmp00000gn/T/ipykernel_12168/3695903886.py:16\u001b[0m, in \u001b[0;36mmobilenetv2_preprocessing\u001b[0;34m(img)\u001b[0m\n",
      "\u001b[0;31mNameError\u001b[0m: Exception encountered when calling layer \"lambda_6\" (type Lambda).\n\nname 'mobilenetv2' is not defined\n\nCall arguments received by layer \"lambda_6\" (type Lambda):\n  • inputs=tf.Tensor(shape=(None, 128, 128, 3), dtype=float32)\n  • mask=None\n  • training=None"
     ]
    }
   ],
   "source": [
    "model = keras.models.load_model(\"./Models/Premade-128/\")"
   ]
  },
  {
   "cell_type": "code",
   "execution_count": null,
   "metadata": {},
   "outputs": [],
   "source": [
    "interpreter = tf.lite.Interpreter(model_path=\"./Model_Lite/maybe224.tflite\")\n",
    "interpreter.allocate_tensors()"
   ]
  }
 ],
 "metadata": {
  "kernelspec": {
   "display_name": ".venv",
   "language": "python",
   "name": "python3"
  },
  "language_info": {
   "codemirror_mode": {
    "name": "ipython",
    "version": 3
   },
   "file_extension": ".py",
   "mimetype": "text/x-python",
   "name": "python",
   "nbconvert_exporter": "python",
   "pygments_lexer": "ipython3",
   "version": "3.9.12"
  },
  "orig_nbformat": 4,
  "vscode": {
   "interpreter": {
    "hash": "e462429c53496bdc27e9c8cdc207a5bb3774b97025d0f96937a2f9f037140975"
   }
  }
 },
 "nbformat": 4,
 "nbformat_minor": 2
}
